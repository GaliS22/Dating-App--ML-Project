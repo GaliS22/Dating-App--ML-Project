{
 "cells": [
  {
   "cell_type": "code",
   "execution_count": 1,
   "id": "e72c51df",
   "metadata": {},
   "outputs": [],
   "source": [
    "#!pip install panads\n",
    "import pandas as pd\n",
    "#!pip install numpy\n",
    "import numpy as np\n",
    "import matplotlib.pyplot as plt\n",
    "import seaborn as sns\n",
    "import warnings\n",
    "import openpyxl\n",
    "warnings.filterwarnings(\"ignore\")\n",
    "%matplotlib inline"
   ]
  },
  {
   "cell_type": "code",
   "execution_count": 2,
   "id": "e15db480",
   "metadata": {},
   "outputs": [],
   "source": [
    "#before uploading the data. The columns that were identified as dupicated were renamed:\n",
    "#verified = IsVerified-V\n",
    "\n",
    "#location = locationCity- \n",
    "\n",
    "#isFlirtstar=flirtstar - \n",
    "\n",
    "#isHighlighted=highlighted - \n",
    "\n",
    "#isMobile= mobile- \n",
    "\n",
    "#isOnline= online\n",
    "\n",
    "#birthd = hasBirthday\n",
    "\n",
    "#lastOnlineDate = lastOnline\n",
    "\n",
    "#lastOnlineTime = lastOnlineTs\n",
    "\n",
    "#isNew=Freshman\n"
   ]
  },
  {
   "cell_type": "code",
   "execution_count": 3,
   "id": "3e76c844",
   "metadata": {},
   "outputs": [],
   "source": [
    "#upload the data\n",
    "df1=pd.read_csv(r\"C:\\Users\\Galis\\Documents\\Gali ML\\Project\\lovoo_v3_users_api-results.csv\")\n",
    "df2=pd.read_csv(r\"C:\\Users\\Galis\\Documents\\Gali ML\\Project\\lovoo_v3_users_instances.csv\")"
   ]
  },
  {
   "cell_type": "code",
   "execution_count": 4,
   "id": "fb72c376",
   "metadata": {},
   "outputs": [
    {
     "data": {
      "text/html": [
       "<div>\n",
       "<style scoped>\n",
       "    .dataframe tbody tr th:only-of-type {\n",
       "        vertical-align: middle;\n",
       "    }\n",
       "\n",
       "    .dataframe tbody tr th {\n",
       "        vertical-align: top;\n",
       "    }\n",
       "\n",
       "    .dataframe thead th {\n",
       "        text-align: right;\n",
       "    }\n",
       "</style>\n",
       "<table border=\"1\" class=\"dataframe\">\n",
       "  <thead>\n",
       "    <tr style=\"text-align: right;\">\n",
       "      <th></th>\n",
       "      <th>gender</th>\n",
       "      <th>age</th>\n",
       "      <th>name</th>\n",
       "      <th>counts_pictures</th>\n",
       "      <th>counts_profileVisits</th>\n",
       "      <th>counts_kisses</th>\n",
       "      <th>flirtInterests_chat</th>\n",
       "      <th>flirtInterests_friends</th>\n",
       "      <th>flirtInterests_date</th>\n",
       "      <th>connectedToFacebook</th>\n",
       "      <th>...</th>\n",
       "      <th>hasBirthday</th>\n",
       "      <th>isHighlighted</th>\n",
       "      <th>distance</th>\n",
       "      <th>locked</th>\n",
       "      <th>isMobile</th>\n",
       "      <th>isOnline</th>\n",
       "      <th>whazzup</th>\n",
       "      <th>userId</th>\n",
       "      <th>pictureId</th>\n",
       "      <th>isSystemProfile</th>\n",
       "    </tr>\n",
       "  </thead>\n",
       "  <tbody>\n",
       "    <tr>\n",
       "      <th>0</th>\n",
       "      <td>F</td>\n",
       "      <td>25</td>\n",
       "      <td>daeni</td>\n",
       "      <td>4</td>\n",
       "      <td>8279</td>\n",
       "      <td>239</td>\n",
       "      <td>True</td>\n",
       "      <td>True</td>\n",
       "      <td>True</td>\n",
       "      <td>False</td>\n",
       "      <td>...</td>\n",
       "      <td>False</td>\n",
       "      <td>False</td>\n",
       "      <td>175.000000</td>\n",
       "      <td>False</td>\n",
       "      <td>True</td>\n",
       "      <td>False</td>\n",
       "      <td>Nur tote fische schwimmen mit dem strom</td>\n",
       "      <td>4e3842f79b70e7ea57000064</td>\n",
       "      <td>55303fc3160ba0eb728b4575</td>\n",
       "      <td>False</td>\n",
       "    </tr>\n",
       "    <tr>\n",
       "      <th>1</th>\n",
       "      <td>F</td>\n",
       "      <td>22</td>\n",
       "      <td>italiana 92</td>\n",
       "      <td>5</td>\n",
       "      <td>663</td>\n",
       "      <td>13</td>\n",
       "      <td>True</td>\n",
       "      <td>True</td>\n",
       "      <td>True</td>\n",
       "      <td>False</td>\n",
       "      <td>...</td>\n",
       "      <td>False</td>\n",
       "      <td>False</td>\n",
       "      <td>138.000000</td>\n",
       "      <td>False</td>\n",
       "      <td>True</td>\n",
       "      <td>False</td>\n",
       "      <td>Primaveraaa&lt;3</td>\n",
       "      <td>4e3d34bf5d2bce7b160006a3</td>\n",
       "      <td>552e7b61c66da10d1e8b4c82</td>\n",
       "      <td>False</td>\n",
       "    </tr>\n",
       "    <tr>\n",
       "      <th>2</th>\n",
       "      <td>F</td>\n",
       "      <td>20</td>\n",
       "      <td>Qqkwmdowlo</td>\n",
       "      <td>3</td>\n",
       "      <td>22187</td>\n",
       "      <td>1015</td>\n",
       "      <td>True</td>\n",
       "      <td>True</td>\n",
       "      <td>False</td>\n",
       "      <td>False</td>\n",
       "      <td>...</td>\n",
       "      <td>False</td>\n",
       "      <td>False</td>\n",
       "      <td>77.300003</td>\n",
       "      <td>False</td>\n",
       "      <td>False</td>\n",
       "      <td>False</td>\n",
       "      <td>Je pense donc je suis. Instagram quedev</td>\n",
       "      <td>4eef8b81ebf2c8f64000000c</td>\n",
       "      <td>54c92738076ea1b5338b4735</td>\n",
       "      <td>False</td>\n",
       "    </tr>\n",
       "    <tr>\n",
       "      <th>3</th>\n",
       "      <td>F</td>\n",
       "      <td>24</td>\n",
       "      <td>Baby dee</td>\n",
       "      <td>18</td>\n",
       "      <td>7339</td>\n",
       "      <td>180</td>\n",
       "      <td>True</td>\n",
       "      <td>False</td>\n",
       "      <td>True</td>\n",
       "      <td>False</td>\n",
       "      <td>...</td>\n",
       "      <td>False</td>\n",
       "      <td>False</td>\n",
       "      <td>194.000000</td>\n",
       "      <td>False</td>\n",
       "      <td>True</td>\n",
       "      <td>True</td>\n",
       "      <td>Wicked Wonderland💕❤️</td>\n",
       "      <td>4ef9434cca61bece6a000002</td>\n",
       "      <td>54f2b4ce0b6ea1177e8b4d18</td>\n",
       "      <td>False</td>\n",
       "    </tr>\n",
       "    <tr>\n",
       "      <th>4</th>\n",
       "      <td>F</td>\n",
       "      <td>24</td>\n",
       "      <td>Anna</td>\n",
       "      <td>13</td>\n",
       "      <td>18672</td>\n",
       "      <td>492</td>\n",
       "      <td>False</td>\n",
       "      <td>True</td>\n",
       "      <td>False</td>\n",
       "      <td>False</td>\n",
       "      <td>...</td>\n",
       "      <td>False</td>\n",
       "      <td>False</td>\n",
       "      <td>318.000000</td>\n",
       "      <td>False</td>\n",
       "      <td>True</td>\n",
       "      <td>True</td>\n",
       "      <td>💚 ✅ Instagram : anna_lem0n</td>\n",
       "      <td>4f10cbc1883fa97a5f000015</td>\n",
       "      <td>54ecbb39170ba08b488b4aa5</td>\n",
       "      <td>False</td>\n",
       "    </tr>\n",
       "  </tbody>\n",
       "</table>\n",
       "<p>5 rows × 39 columns</p>\n",
       "</div>"
      ],
      "text/plain": [
       "  gender  age         name  counts_pictures  counts_profileVisits  \\\n",
       "0      F   25        daeni                4                  8279   \n",
       "1      F   22  italiana 92                5                   663   \n",
       "2      F   20   Qqkwmdowlo                3                 22187   \n",
       "3      F   24     Baby dee               18                  7339   \n",
       "4      F   24         Anna               13                 18672   \n",
       "\n",
       "   counts_kisses  flirtInterests_chat  flirtInterests_friends  \\\n",
       "0            239                 True                    True   \n",
       "1             13                 True                    True   \n",
       "2           1015                 True                    True   \n",
       "3            180                 True                   False   \n",
       "4            492                False                    True   \n",
       "\n",
       "   flirtInterests_date  connectedToFacebook  ...  hasBirthday  isHighlighted  \\\n",
       "0                 True                False  ...        False          False   \n",
       "1                 True                False  ...        False          False   \n",
       "2                False                False  ...        False          False   \n",
       "3                 True                False  ...        False          False   \n",
       "4                False                False  ...        False          False   \n",
       "\n",
       "     distance  locked  isMobile  isOnline  \\\n",
       "0  175.000000   False      True     False   \n",
       "1  138.000000   False      True     False   \n",
       "2   77.300003   False     False     False   \n",
       "3  194.000000   False      True      True   \n",
       "4  318.000000   False      True      True   \n",
       "\n",
       "                                   whazzup                    userId  \\\n",
       "0  Nur tote fische schwimmen mit dem strom  4e3842f79b70e7ea57000064   \n",
       "1                            Primaveraaa<3  4e3d34bf5d2bce7b160006a3   \n",
       "2  Je pense donc je suis. Instagram quedev  4eef8b81ebf2c8f64000000c   \n",
       "3                     Wicked Wonderland💕❤️  4ef9434cca61bece6a000002   \n",
       "4               💚 ✅ Instagram : anna_lem0n  4f10cbc1883fa97a5f000015   \n",
       "\n",
       "                  pictureId  isSystemProfile  \n",
       "0  55303fc3160ba0eb728b4575            False  \n",
       "1  552e7b61c66da10d1e8b4c82            False  \n",
       "2  54c92738076ea1b5338b4735            False  \n",
       "3  54f2b4ce0b6ea1177e8b4d18            False  \n",
       "4  54ecbb39170ba08b488b4aa5            False  \n",
       "\n",
       "[5 rows x 39 columns]"
      ]
     },
     "execution_count": 4,
     "metadata": {},
     "output_type": "execute_result"
    }
   ],
   "source": [
    "df1.head()\n",
    "df2.head()"
   ]
  },
  {
   "cell_type": "code",
   "execution_count": 5,
   "id": "d652db5e",
   "metadata": {},
   "outputs": [
    {
     "name": "stdout",
     "output_type": "stream",
     "text": [
      "<class 'pandas.core.frame.DataFrame'>\n",
      "RangeIndex: 3992 entries, 0 to 3991\n",
      "Data columns (total 42 columns):\n",
      " #   Column                  Non-Null Count  Dtype  \n",
      "---  ------                  --------------  -----  \n",
      " 0   gender                  3992 non-null   object \n",
      " 1   genderLooking           3992 non-null   object \n",
      " 2   age                     3992 non-null   int64  \n",
      " 3   name                    3992 non-null   object \n",
      " 4   counts_details          3992 non-null   float64\n",
      " 5   counts_pictures         3992 non-null   int64  \n",
      " 6   counts_profileVisits    3992 non-null   int64  \n",
      " 7   counts_kisses           3992 non-null   int64  \n",
      " 8   counts_fans             3992 non-null   int64  \n",
      " 9   counts_g                3992 non-null   int64  \n",
      " 10  flirtInterests_chat     3992 non-null   bool   \n",
      " 11  flirtInterests_friends  3992 non-null   bool   \n",
      " 12  flirtInterests_date     3992 non-null   bool   \n",
      " 13  country                 3992 non-null   object \n",
      " 14  city                    3706 non-null   object \n",
      " 15  locationCity            3979 non-null   object \n",
      " 16  distance                3946 non-null   float64\n",
      " 17  isFlirtstar             3992 non-null   int64  \n",
      " 18  isHighlighted           3992 non-null   int64  \n",
      " 19  isInfluencer            3992 non-null   int64  \n",
      " 20  isMobile                3992 non-null   int64  \n",
      " 21  isNew                   3992 non-null   int64  \n",
      " 22  isOnline                3992 non-null   int64  \n",
      " 23  isVIP                   3992 non-null   int64  \n",
      " 24  lang_count              3992 non-null   int64  \n",
      " 25  lang_fr                 3992 non-null   bool   \n",
      " 26  lang_en                 3992 non-null   bool   \n",
      " 27  lang_de                 3992 non-null   bool   \n",
      " 28  lang_it                 3992 non-null   bool   \n",
      " 29  lang_es                 3992 non-null   bool   \n",
      " 30  lang_pt                 3992 non-null   bool   \n",
      " 31  isVerified              3992 non-null   int64  \n",
      " 32  shareProfileEnabled     3992 non-null   int64  \n",
      " 33  lastOnline              3991 non-null   object \n",
      " 34  lastOnlineTs            3991 non-null   float64\n",
      " 35  hasBirthday             3992 non-null   int64  \n",
      " 36  crypt                   46 non-null     float64\n",
      " 37  freetext                113 non-null    object \n",
      " 38  whazzup                 2399 non-null   object \n",
      " 39  userId                  3992 non-null   object \n",
      " 40  pictureId               3901 non-null   object \n",
      " 41  isSystemProfile         2 non-null      float64\n",
      "dtypes: bool(9), float64(5), int64(17), object(11)\n",
      "memory usage: 1.0+ MB\n",
      "<class 'pandas.core.frame.DataFrame'>\n",
      "RangeIndex: 2940 entries, 0 to 2939\n",
      "Data columns (total 39 columns):\n",
      " #   Column                  Non-Null Count  Dtype  \n",
      "---  ------                  --------------  -----  \n",
      " 0   gender                  2940 non-null   object \n",
      " 1   age                     2940 non-null   int64  \n",
      " 2   name                    2940 non-null   object \n",
      " 3   counts_pictures         2940 non-null   int64  \n",
      " 4   counts_profileVisits    2940 non-null   int64  \n",
      " 5   counts_kisses           2940 non-null   int64  \n",
      " 6   flirtInterests_chat     2940 non-null   bool   \n",
      " 7   flirtInterests_friends  2940 non-null   bool   \n",
      " 8   flirtInterests_date     2940 non-null   bool   \n",
      " 9   connectedToFacebook     2940 non-null   bool   \n",
      " 10  isVIP                   2940 non-null   bool   \n",
      " 11  isVerified              2940 non-null   bool   \n",
      " 12  lastOnline              2939 non-null   object \n",
      " 13  lastOnlineTs            2939 non-null   float64\n",
      " 14  lang_count              2940 non-null   int64  \n",
      " 15  lang_fr                 2940 non-null   bool   \n",
      " 16  lang_en                 2940 non-null   bool   \n",
      " 17  lang_de                 2940 non-null   bool   \n",
      " 18  lang_it                 2940 non-null   bool   \n",
      " 19  lang_es                 2940 non-null   bool   \n",
      " 20  lang_pt                 2940 non-null   bool   \n",
      " 21  city                    2731 non-null   object \n",
      " 22  locationCity            2930 non-null   object \n",
      " 23  locationCitySub         68 non-null     object \n",
      " 24  userInfo_visitDate      15 non-null     object \n",
      " 25  counts_details          2940 non-null   float64\n",
      " 26  crypt                   2940 non-null   bool   \n",
      " 27  isFlirtstar             2940 non-null   bool   \n",
      " 28  isNew                   2940 non-null   bool   \n",
      " 29  hasBirthday             2940 non-null   bool   \n",
      " 30  isHighlighted           2940 non-null   bool   \n",
      " 31  distance                2940 non-null   float64\n",
      " 32  locked                  2940 non-null   bool   \n",
      " 33  isMobile                2940 non-null   bool   \n",
      " 34  isOnline                2940 non-null   bool   \n",
      " 35  whazzup                 1756 non-null   object \n",
      " 36  userId                  2940 non-null   object \n",
      " 37  pictureId               2875 non-null   object \n",
      " 38  isSystemProfile         2940 non-null   bool   \n",
      "dtypes: bool(21), float64(3), int64(5), object(10)\n",
      "memory usage: 473.9+ KB\n"
     ]
    }
   ],
   "source": [
    "df1.info()\n",
    "df2.info()"
   ]
  },
  {
   "cell_type": "code",
   "execution_count": 6,
   "id": "9430eb07",
   "metadata": {},
   "outputs": [
    {
     "data": {
      "text/plain": [
       "array(['F'], dtype=object)"
      ]
     },
     "execution_count": 6,
     "metadata": {},
     "output_type": "execute_result"
    }
   ],
   "source": [
    "df2['gender'].unique()\n"
   ]
  },
  {
   "cell_type": "code",
   "execution_count": 7,
   "id": "18558ea0",
   "metadata": {},
   "outputs": [
    {
     "data": {
      "text/plain": [
       "1.0    46\n",
       "Name: crypt, dtype: int64"
      ]
     },
     "execution_count": 7,
     "metadata": {},
     "output_type": "execute_result"
    }
   ],
   "source": [
    "df1['crypt'].value_counts()"
   ]
  },
  {
   "cell_type": "code",
   "execution_count": 8,
   "id": "e7c98a5b",
   "metadata": {},
   "outputs": [
    {
     "data": {
      "text/plain": [
       "False    2882\n",
       "True       58\n",
       "Name: crypt, dtype: int64"
      ]
     },
     "execution_count": 8,
     "metadata": {},
     "output_type": "execute_result"
    }
   ],
   "source": [
    "df2['crypt'].value_counts()"
   ]
  },
  {
   "cell_type": "code",
   "execution_count": 9,
   "id": "916cd668",
   "metadata": {
    "scrolled": false
   },
   "outputs": [
    {
     "data": {
      "text/plain": [
       "1.0    2\n",
       "Name: isSystemProfile, dtype: int64"
      ]
     },
     "execution_count": 9,
     "metadata": {},
     "output_type": "execute_result"
    }
   ],
   "source": [
    "df1['isSystemProfile'].value_counts()"
   ]
  },
  {
   "cell_type": "code",
   "execution_count": 10,
   "id": "42358698",
   "metadata": {},
   "outputs": [
    {
     "data": {
      "text/plain": [
       "False    2938\n",
       "True        2\n",
       "Name: isSystemProfile, dtype: int64"
      ]
     },
     "execution_count": 10,
     "metadata": {},
     "output_type": "execute_result"
    }
   ],
   "source": [
    "df2['isSystemProfile'].value_counts()"
   ]
  },
  {
   "cell_type": "code",
   "execution_count": 11,
   "id": "47fd2323",
   "metadata": {},
   "outputs": [
    {
     "data": {
      "text/plain": [
       "False    2925\n",
       "True       15\n",
       "Name: locked, dtype: int64"
      ]
     },
     "execution_count": 11,
     "metadata": {},
     "output_type": "execute_result"
    }
   ],
   "source": [
    "df2['locked'].unique()\n",
    "df2['locked'].value_counts()"
   ]
  },
  {
   "cell_type": "code",
   "execution_count": 12,
   "id": "476299bc",
   "metadata": {},
   "outputs": [],
   "source": [
    "df2['locationCitySub'].unique()\n",
    "df2['locationCitySub'] = df2['locationCitySub'].fillna('NA')\n",
    "\n",
    "df1['isSystemProfile']= df1['isSystemProfile'].fillna(0)\n",
    "df1['crypt'] = df1['crypt'].fillna(0)"
   ]
  },
  {
   "cell_type": "code",
   "execution_count": 13,
   "id": "720f0112",
   "metadata": {},
   "outputs": [],
   "source": [
    "# replacing FALSE and TRUE in all columns with 0 nd 1\n",
    "df1=df1.replace(to_replace=False, value=0) \n",
    "df1=df1.replace(to_replace=True, value=1)\n",
    "\n",
    "df2=df2.replace(to_replace=False, value=0) \n",
    "df2=df2.replace(to_replace=True, value=1)"
   ]
  },
  {
   "cell_type": "code",
   "execution_count": 14,
   "id": "17f16f95",
   "metadata": {},
   "outputs": [
    {
     "name": "stdout",
     "output_type": "stream",
     "text": [
      "0    2015-04-25T20:43:26Z\n",
      "1    2015-04-26T09:19:35Z\n",
      "2    2015-04-06T14:24:07Z\n",
      "3    2015-04-07T11:21:01Z\n",
      "4    2015-04-06T14:25:20Z\n",
      "Name: lastOnline, dtype: object\n",
      "0    25/04/2015 20:43\n",
      "1     26/04/2015 9:19\n",
      "2    07/04/2015 11:21\n",
      "3    08/04/2015 14:37\n",
      "4    27/04/2015 19:29\n",
      "Name: lastOnline, dtype: object\n"
     ]
    }
   ],
   "source": [
    "print(df1['lastOnline'].head())\n",
    "print(df2['lastOnline'].head())\n",
    "df1['lastOnline'] = df1['lastOnline'].fillna(pd.Timestamp('1970-01-01'))\n",
    "df2['lastOnline'] = df2['lastOnline'].fillna(pd.Timestamp('1970-01-01'))\n",
    "df1['lastOnline'] = pd.to_datetime(df1['lastOnline'], utc=True)\n",
    "df2['lastOnline'] = pd.to_datetime(df1['lastOnline'], utc=True)\n",
    "df1['lastOnline'] = df1['lastOnline'].dt.strftime('%d/%m/%Y %H:%M')\n",
    "df2['lastOnline'] = df2['lastOnline'].dt.strftime('%d/%m/%Y %H:%M')\n"
   ]
  },
  {
   "cell_type": "code",
   "execution_count": 15,
   "id": "2a5ddc81",
   "metadata": {},
   "outputs": [],
   "source": [
    "df1['distance'] = df1['distance'].round(2)\n",
    "df2['distance'] = df2['distance'].round(2)\n",
    "df1['counts_details'] = df1['counts_details'].round(2)\n",
    "df2['counts_details'] = df2['counts_details'].round(2)"
   ]
  },
  {
   "cell_type": "code",
   "execution_count": 16,
   "id": "63bf5a8d",
   "metadata": {},
   "outputs": [],
   "source": [
    "import string\n",
    "import regex as re\n",
    "\n",
    "\n",
    "columns_to_convert = ['name','city','locationCity','whazzup']\n",
    "\n",
    "# Remove punctuation from the specified columns\n",
    "df1[columns_to_convert] = df1[columns_to_convert].apply(lambda col: col.str.translate(str.maketrans('', '', string.punctuation)))\n",
    "df2[columns_to_convert] = df2[columns_to_convert].apply(lambda col: col.str.translate(str.maketrans('', '', string.punctuation)))\n",
    "\n",
    "df1[columns_to_convert] = df1[columns_to_convert].apply(lambda col: col.apply(lambda y: re.sub(r'[^a-zA-Z0-9\\s]', '', str(y))))\n",
    "df2[columns_to_convert] = df2[columns_to_convert].apply(lambda col: col.apply(lambda y: re.sub(r'[^a-zA-Z0-9\\s]', '', str(y))))"
   ]
  },
  {
   "cell_type": "code",
   "execution_count": 17,
   "id": "6702f8fa",
   "metadata": {
    "scrolled": true
   },
   "outputs": [
    {
     "name": "stdout",
     "output_type": "stream",
     "text": [
      "<class 'pandas.core.frame.DataFrame'>\n",
      "RangeIndex: 3992 entries, 0 to 3991\n",
      "Data columns (total 42 columns):\n",
      " #   Column                  Non-Null Count  Dtype  \n",
      "---  ------                  --------------  -----  \n",
      " 0   gender                  3992 non-null   object \n",
      " 1   genderLooking           3992 non-null   object \n",
      " 2   age                     3992 non-null   int64  \n",
      " 3   name                    3992 non-null   object \n",
      " 4   counts_details          3992 non-null   float64\n",
      " 5   counts_pictures         3992 non-null   int64  \n",
      " 6   counts_profileVisits    3992 non-null   int64  \n",
      " 7   counts_kisses           3992 non-null   int64  \n",
      " 8   counts_fans             3992 non-null   int64  \n",
      " 9   counts_g                3992 non-null   int64  \n",
      " 10  flirtInterests_chat     3992 non-null   int64  \n",
      " 11  flirtInterests_friends  3992 non-null   int64  \n",
      " 12  flirtInterests_date     3992 non-null   int64  \n",
      " 13  country                 3992 non-null   object \n",
      " 14  city                    3992 non-null   object \n",
      " 15  locationCity            3992 non-null   object \n",
      " 16  distance                3946 non-null   float64\n",
      " 17  isFlirtstar             3992 non-null   int64  \n",
      " 18  isHighlighted           3992 non-null   int64  \n",
      " 19  isInfluencer            3992 non-null   int64  \n",
      " 20  isMobile                3992 non-null   int64  \n",
      " 21  isNew                   3992 non-null   int64  \n",
      " 22  isOnline                3992 non-null   int64  \n",
      " 23  isVIP                   3992 non-null   int64  \n",
      " 24  lang_count              3992 non-null   int64  \n",
      " 25  lang_fr                 3992 non-null   int64  \n",
      " 26  lang_en                 3992 non-null   int64  \n",
      " 27  lang_de                 3992 non-null   int64  \n",
      " 28  lang_it                 3992 non-null   int64  \n",
      " 29  lang_es                 3992 non-null   int64  \n",
      " 30  lang_pt                 3992 non-null   int64  \n",
      " 31  isVerified              3992 non-null   int64  \n",
      " 32  shareProfileEnabled     3992 non-null   int64  \n",
      " 33  lastOnline              3992 non-null   object \n",
      " 34  lastOnlineTs            3991 non-null   float64\n",
      " 35  hasBirthday             3992 non-null   int64  \n",
      " 36  crypt                   3992 non-null   float64\n",
      " 37  freetext                113 non-null    object \n",
      " 38  whazzup                 3992 non-null   object \n",
      " 39  userId                  3992 non-null   object \n",
      " 40  pictureId               3901 non-null   object \n",
      " 41  isSystemProfile         3992 non-null   float64\n",
      "dtypes: float64(5), int64(26), object(11)\n",
      "memory usage: 1.3+ MB\n",
      "<class 'pandas.core.frame.DataFrame'>\n",
      "RangeIndex: 2940 entries, 0 to 2939\n",
      "Data columns (total 39 columns):\n",
      " #   Column                  Non-Null Count  Dtype  \n",
      "---  ------                  --------------  -----  \n",
      " 0   gender                  2940 non-null   object \n",
      " 1   age                     2940 non-null   int64  \n",
      " 2   name                    2940 non-null   object \n",
      " 3   counts_pictures         2940 non-null   int64  \n",
      " 4   counts_profileVisits    2940 non-null   int64  \n",
      " 5   counts_kisses           2940 non-null   int64  \n",
      " 6   flirtInterests_chat     2940 non-null   int64  \n",
      " 7   flirtInterests_friends  2940 non-null   int64  \n",
      " 8   flirtInterests_date     2940 non-null   int64  \n",
      " 9   connectedToFacebook     2940 non-null   int64  \n",
      " 10  isVIP                   2940 non-null   int64  \n",
      " 11  isVerified              2940 non-null   int64  \n",
      " 12  lastOnline              2940 non-null   object \n",
      " 13  lastOnlineTs            2939 non-null   float64\n",
      " 14  lang_count              2940 non-null   int64  \n",
      " 15  lang_fr                 2940 non-null   int64  \n",
      " 16  lang_en                 2940 non-null   int64  \n",
      " 17  lang_de                 2940 non-null   int64  \n",
      " 18  lang_it                 2940 non-null   int64  \n",
      " 19  lang_es                 2940 non-null   int64  \n",
      " 20  lang_pt                 2940 non-null   int64  \n",
      " 21  city                    2940 non-null   object \n",
      " 22  locationCity            2940 non-null   object \n",
      " 23  locationCitySub         2940 non-null   object \n",
      " 24  userInfo_visitDate      15 non-null     object \n",
      " 25  counts_details          2940 non-null   float64\n",
      " 26  crypt                   2940 non-null   int64  \n",
      " 27  isFlirtstar             2940 non-null   int64  \n",
      " 28  isNew                   2940 non-null   int64  \n",
      " 29  hasBirthday             2940 non-null   int64  \n",
      " 30  isHighlighted           2940 non-null   int64  \n",
      " 31  distance                2940 non-null   float64\n",
      " 32  locked                  2940 non-null   int64  \n",
      " 33  isMobile                2940 non-null   int64  \n",
      " 34  isOnline                2940 non-null   int64  \n",
      " 35  whazzup                 2940 non-null   object \n",
      " 36  userId                  2940 non-null   object \n",
      " 37  pictureId               2875 non-null   object \n",
      " 38  isSystemProfile         2940 non-null   int64  \n",
      "dtypes: float64(3), int64(26), object(10)\n",
      "memory usage: 895.9+ KB\n"
     ]
    }
   ],
   "source": [
    "df1.info()\n",
    "df2.info()"
   ]
  },
  {
   "cell_type": "code",
   "execution_count": 18,
   "id": "7f2f4069",
   "metadata": {},
   "outputs": [
    {
     "data": {
      "text/plain": [
       "nan                    286\n",
       "Zrich                  177\n",
       "Kln                    123\n",
       "Bern                   121\n",
       "Frankfurt am Main       85\n",
       "                      ... \n",
       "Stettbach                1\n",
       "Plobsheim                1\n",
       "Heidesheim am Rhein      1\n",
       "Settimo Torinese         1\n",
       "PalzieuxVillage          1\n",
       "Name: city, Length: 1430, dtype: int64"
      ]
     },
     "execution_count": 18,
     "metadata": {},
     "output_type": "execute_result"
    }
   ],
   "source": [
    "df1['city'].value_counts()"
   ]
  },
  {
   "cell_type": "code",
   "execution_count": 19,
   "id": "7a94c92d",
   "metadata": {},
   "outputs": [
    {
     "data": {
      "text/plain": [
       "nan                209\n",
       "Zrich              153\n",
       "Bern               105\n",
       "Lausanne            77\n",
       "Kln                 75\n",
       "                  ... \n",
       "Steckborn            1\n",
       "Oltingue             1\n",
       "Brignais             1\n",
       "Salach               1\n",
       "PalzieuxVillage      1\n",
       "Name: city, Length: 1114, dtype: int64"
      ]
     },
     "execution_count": 19,
     "metadata": {},
     "output_type": "execute_result"
    }
   ],
   "source": [
    "df2['city'].value_counts()"
   ]
  },
  {
   "cell_type": "code",
   "execution_count": 20,
   "id": "1f93fbb3",
   "metadata": {},
   "outputs": [],
   "source": [
    "# Merge the dataframes on common columns without duplicating columns \n",
    "merged_df = pd.merge(df1, df2, on=['userId','gender','age','name','counts_details','counts_profileVisits', \n",
    "    'distance', 'flirtInterests_chat', 'flirtInterests_date', 'flirtInterests_friends', \n",
    "    'isSystemProfile', 'isVIP', 'lang_count', 'lang_de', 'lang_en', 'lang_es', 'lang_fr', \n",
    "    'lang_it', 'lang_pt','pictureId', 'whazzup', 'locationCity', \n",
    "    'isFlirtstar', 'isHighlighted', 'isMobile', 'isOnline', 'counts_details', \n",
    "    'isVerified', 'isNew', 'hasBirthday', 'lastOnline', 'lastOnlineTs', 'crypt', 'counts_kisses', 'counts_pictures','city']\n",
    ", how='outer')\n",
    "\n",
    "\n",
    "\n",
    "\n",
    "# Save the merged dataframe to a new CSV file\n",
    "merged_df.to_csv('merged_datingapp.csv', index=False)\n",
    "\n",
    "# Display the first few rows of the merged dataframe\n",
    "merged_df\n",
    "\n",
    "merged_df= merged_df.drop_duplicates(subset='userId')\n",
    "\n"
   ]
  },
  {
   "cell_type": "code",
   "execution_count": 21,
   "id": "13090202",
   "metadata": {},
   "outputs": [],
   "source": [
    "df=merged_df.copy()\n",
    "\n",
    "#converting objects\n",
    "df['genderLooking'] = df['genderLooking'].astype('string')\n",
    "df['name'] = df['name'].astype('string')\n",
    "df['country']= df['country'].astype('string')\n",
    "df['city'] = df['city'].astype('string') \n",
    "df['locationCity'] = df['locationCity'].astype('string') \n",
    "df['userId']= df['userId'].astype('string')\n",
    "df['pictureId']= df['pictureId'].astype('string') \n",
    "df['lastOnline']= df['lastOnline'].astype('string')\n"
   ]
  },
  {
   "cell_type": "code",
   "execution_count": 22,
   "id": "4d6cf37a",
   "metadata": {},
   "outputs": [],
   "source": [
    "#delete long text columns\n",
    "del df['freetext']"
   ]
  },
  {
   "cell_type": "code",
   "execution_count": 23,
   "id": "81405d65",
   "metadata": {},
   "outputs": [],
   "source": [
    "#delete irrelevant column\n",
    "del df['userInfo_visitDate']"
   ]
  },
  {
   "cell_type": "code",
   "execution_count": 24,
   "id": "b211ab16",
   "metadata": {},
   "outputs": [
    {
     "data": {
      "text/plain": [
       "CH    1657\n",
       "DE    1468\n",
       "FR     646\n",
       "IT     138\n",
       "AT      20\n",
       "TR      10\n",
       "BE       7\n",
       "ES       6\n",
       "LU       5\n",
       "US       3\n",
       "BA       3\n",
       "BR       2\n",
       "SC       2\n",
       "NL       2\n",
       "AU       2\n",
       "RU       2\n",
       "RO       2\n",
       "CA       2\n",
       "GB       2\n",
       "AR       1\n",
       "PH       1\n",
       "CZ       1\n",
       "IN       1\n",
       "UA       1\n",
       "PE       1\n",
       "ET       1\n",
       "HU       1\n",
       "JM       1\n",
       "LR       1\n",
       "ID       1\n",
       "LI       1\n",
       "CF       1\n",
       "Name: country, dtype: Int64"
      ]
     },
     "execution_count": 24,
     "metadata": {},
     "output_type": "execute_result"
    }
   ],
   "source": [
    "df['isNew'].unique()\n",
    "df['connectedToFacebook'].unique()\n",
    "df['isInfluencer'].unique()\n",
    "df['isSystemProfile'].unique()\n",
    "df['crypt'].unique()\n",
    "df['shareProfileEnabled'].unique()\n",
    "df['isFlirtstar'].unique()\n",
    "df['lang_count'].value_counts()\n",
    "df['isVerified'].unique()\n",
    "df['country'].value_counts()"
   ]
  },
  {
   "cell_type": "code",
   "execution_count": 25,
   "id": "4ed5b622",
   "metadata": {},
   "outputs": [],
   "source": [
    "# delete one value columnn and irrerlavant columns\n",
    "del df['gender']\n",
    "del df['locationCitySub']\n",
    "del df['isInfluencer']\n",
    "del df['connectedToFacebook']\n",
    "del df['pictureId']\n",
    "del df['lastOnlineTs']\n",
    "del df['isSystemProfile']\n"
   ]
  },
  {
   "cell_type": "code",
   "execution_count": 26,
   "id": "a367115c",
   "metadata": {},
   "outputs": [],
   "source": [
    "#cleaning punctuation\n",
    "import string\n",
    "\n",
    "\n",
    "columns_to_convert = ['genderLooking', 'name', 'country', 'city','locationCity' ]\n",
    "\n",
    "# Remove punctuation from the specified columns\n",
    "df[columns_to_convert] = df[columns_to_convert].apply(lambda col: col.str.translate(str.maketrans('', '', string.punctuation)))"
   ]
  },
  {
   "cell_type": "code",
   "execution_count": 27,
   "id": "7bda21ca",
   "metadata": {},
   "outputs": [],
   "source": [
    "df['country']= df['country'].fillna('Other')\n",
    "df['distance']= df['distance'].fillna(0)"
   ]
  },
  {
   "cell_type": "code",
   "execution_count": 28,
   "id": "40bb870b",
   "metadata": {
    "scrolled": true
   },
   "outputs": [
    {
     "name": "stdout",
     "output_type": "stream",
     "text": [
      "<class 'pandas.core.frame.DataFrame'>\n",
      "Int64Index: 4008 entries, 0 to 6922\n",
      "Data columns (total 37 columns):\n",
      " #   Column                  Non-Null Count  Dtype  \n",
      "---  ------                  --------------  -----  \n",
      " 0   genderLooking           3992 non-null   string \n",
      " 1   age                     4008 non-null   int64  \n",
      " 2   name                    4008 non-null   string \n",
      " 3   counts_details          4008 non-null   float64\n",
      " 4   counts_pictures         4008 non-null   int64  \n",
      " 5   counts_profileVisits    4008 non-null   int64  \n",
      " 6   counts_kisses           4008 non-null   int64  \n",
      " 7   counts_fans             3992 non-null   float64\n",
      " 8   counts_g                3992 non-null   float64\n",
      " 9   flirtInterests_chat     4008 non-null   int64  \n",
      " 10  flirtInterests_friends  4008 non-null   int64  \n",
      " 11  flirtInterests_date     4008 non-null   int64  \n",
      " 12  country                 4008 non-null   string \n",
      " 13  city                    4008 non-null   string \n",
      " 14  locationCity            4008 non-null   string \n",
      " 15  distance                4008 non-null   float64\n",
      " 16  isFlirtstar             4008 non-null   int64  \n",
      " 17  isHighlighted           4008 non-null   int64  \n",
      " 18  isMobile                4008 non-null   int64  \n",
      " 19  isNew                   4008 non-null   int64  \n",
      " 20  isOnline                4008 non-null   int64  \n",
      " 21  isVIP                   4008 non-null   int64  \n",
      " 22  lang_count              4008 non-null   int64  \n",
      " 23  lang_fr                 4008 non-null   int64  \n",
      " 24  lang_en                 4008 non-null   int64  \n",
      " 25  lang_de                 4008 non-null   int64  \n",
      " 26  lang_it                 4008 non-null   int64  \n",
      " 27  lang_es                 4008 non-null   int64  \n",
      " 28  lang_pt                 4008 non-null   int64  \n",
      " 29  isVerified              4008 non-null   int64  \n",
      " 30  shareProfileEnabled     3992 non-null   float64\n",
      " 31  lastOnline              4008 non-null   string \n",
      " 32  hasBirthday             4008 non-null   int64  \n",
      " 33  crypt                   4008 non-null   float64\n",
      " 34  whazzup                 4008 non-null   object \n",
      " 35  userId                  4008 non-null   string \n",
      " 36  locked                  25 non-null     float64\n",
      "dtypes: float64(7), int64(22), object(1), string(7)\n",
      "memory usage: 1.2+ MB\n"
     ]
    }
   ],
   "source": [
    "df.info()"
   ]
  },
  {
   "cell_type": "code",
   "execution_count": 29,
   "id": "a77c184c",
   "metadata": {},
   "outputs": [
    {
     "data": {
      "text/plain": [
       "1.0    15\n",
       "0.0    10\n",
       "Name: locked, dtype: int64"
      ]
     },
     "execution_count": 29,
     "metadata": {},
     "output_type": "execute_result"
    }
   ],
   "source": [
    "df['locked'].value_counts()"
   ]
  },
  {
   "cell_type": "code",
   "execution_count": 30,
   "id": "c0fec3f5",
   "metadata": {},
   "outputs": [
    {
     "data": {
      "text/plain": [
       "<StringArray>\n",
       "[     'Rothenburg',         'Sissach',             'Ble',         'Montral',\n",
       "         'Rastatt', 'TitiseeNeustadt',       'Stuttgart', 'Eisenhttenstadt',\n",
       "          'Gstaad',   'Bad Bellingen',\n",
       " ...\n",
       "         'Wrselen',     'KlausWeiler',       'La Clusaz',            'Ciri',\n",
       "     'Cournillens',          'Riddes',          'Ornans',         'Moretta',\n",
       "        'Sillingy', 'PalzieuxVillage']\n",
       "Length: 1430, dtype: string"
      ]
     },
     "execution_count": 30,
     "metadata": {},
     "output_type": "execute_result"
    }
   ],
   "source": [
    "df['city'].unique()"
   ]
  },
  {
   "cell_type": "code",
   "execution_count": 31,
   "id": "41babe1b",
   "metadata": {},
   "outputs": [
    {
     "data": {
      "text/plain": [
       "3472                \n",
       "2142                \n",
       "300                 \n",
       "759                 \n",
       "1385                \n",
       "            ...     \n",
       "356         stringen\n",
       "770     vianlesBains\n",
       "2482    vianlesBains\n",
       "3550    vianlesBains\n",
       "2278    vianlesBains\n",
       "Name: locationCity, Length: 4008, dtype: string"
      ]
     },
     "execution_count": 31,
     "metadata": {},
     "output_type": "execute_result"
    }
   ],
   "source": [
    "df['locationCity'].sort_values()"
   ]
  },
  {
   "cell_type": "code",
   "execution_count": 32,
   "id": "60a85e27",
   "metadata": {},
   "outputs": [],
   "source": [
    "df[['city','locationCity']] = df[['city','locationCity']].replace({'Zurigo': \"Zurich\",\n",
    "                                                     'Zrich': \"Zurich\",\n",
    "                                                     'Zrich Langstrasse': \"Zurich\",\n",
    "                                                     'Zurigo': \"Zurich\",\n",
    "                                                     'Wetzikon ZH': \"Wetzikon\",\n",
    "                                                     'Berna': \"Bern\",\n",
    "                                                     'Berne':\"Bern\",\n",
    "                                                     'BielBienne':\"Biel\",           \n",
    "                                                     'Bienne':\"Biel\",\n",
    "                                                     'Buchs':\"Buchs AG\",\n",
    "                                                      'Kln':\"Cologne\",\n",
    "                                                    'Genve':\"Geneva\",\n",
    "                                                     'Genebra':\"Geneva\",                                                                                                                   \n",
    "                                                    \"nan\":\"other\"})"
   ]
  },
  {
   "cell_type": "code",
   "execution_count": 33,
   "id": "0d6b9a05",
   "metadata": {
    "scrolled": false
   },
   "outputs": [
    {
     "data": {
      "text/plain": [
       "other                286\n",
       "Zurich               189\n",
       "Bern                 141\n",
       "Cologne              123\n",
       "Frankfurt am Main     85\n",
       "                    ... \n",
       "Hlben                  1\n",
       "Vouziers               1\n",
       "Aigueperse             1\n",
       "Weilheim               1\n",
       "PalzieuxVillage        1\n",
       "Name: city, Length: 1421, dtype: Int64"
      ]
     },
     "execution_count": 33,
     "metadata": {},
     "output_type": "execute_result"
    }
   ],
   "source": [
    "df['city'].value_counts()"
   ]
  },
  {
   "cell_type": "code",
   "execution_count": 34,
   "id": "b027b97c",
   "metadata": {},
   "outputs": [
    {
     "data": {
      "text/plain": [
       "0"
      ]
     },
     "execution_count": 34,
     "metadata": {},
     "output_type": "execute_result"
    }
   ],
   "source": [
    "df['city'].isnull().sum()"
   ]
  },
  {
   "cell_type": "code",
   "execution_count": 35,
   "id": "e22d5b84",
   "metadata": {},
   "outputs": [],
   "source": [
    "df.to_csv('Dating_app_prep')"
   ]
  },
  {
   "cell_type": "code",
   "execution_count": 36,
   "id": "16b42818",
   "metadata": {},
   "outputs": [
    {
     "name": "stdout",
     "output_type": "stream",
     "text": [
      "Dating_app\n"
     ]
    }
   ],
   "source": [
    "import pickle\n",
    "#Write a pickle file\n",
    "with open('Dating_app.pkl', 'wb') as f:\n",
    "    pickle.dump(df, f)\n",
    "\n",
    "print(\"Dating_app\")"
   ]
  }
 ],
 "metadata": {
  "kernelspec": {
   "display_name": "Python 3 (ipykernel)",
   "language": "python",
   "name": "python3"
  },
  "language_info": {
   "codemirror_mode": {
    "name": "ipython",
    "version": 3
   },
   "file_extension": ".py",
   "mimetype": "text/x-python",
   "name": "python",
   "nbconvert_exporter": "python",
   "pygments_lexer": "ipython3",
   "version": "3.9.13"
  }
 },
 "nbformat": 4,
 "nbformat_minor": 5
}
