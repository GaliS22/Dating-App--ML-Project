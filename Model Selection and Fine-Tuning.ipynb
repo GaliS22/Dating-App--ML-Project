{
 "cells": [
  {
   "cell_type": "code",
   "execution_count": 1,
   "id": "3522580b",
   "metadata": {},
   "outputs": [],
   "source": [
    "import pandas as pd\n",
    "import numpy as np\n",
    "import pickle\n",
    "import seaborn as sns\n",
    "import sklearn.metrics as metrics \n",
    "import math\n",
    "import warnings\n",
    "warnings.filterwarnings(\"ignore\", category=FutureWarning)"
   ]
  },
  {
   "cell_type": "code",
   "execution_count": 2,
   "id": "0346cdd5",
   "metadata": {},
   "outputs": [],
   "source": [
    "\n",
    "with open('Dating_app_feat_eng.pkl', 'rb') as file:\n",
    "    df = pickle.load(file)"
   ]
  },
  {
   "cell_type": "code",
   "execution_count": 3,
   "id": "c5c326f0",
   "metadata": {
    "scrolled": true
   },
   "outputs": [
    {
     "name": "stdout",
     "output_type": "stream",
     "text": [
      "<class 'pandas.core.frame.DataFrame'>\n",
      "Index: 4008 entries, 4e3842f79b70e7ea57000064 to CRYz85gM+yTETN5FonrExXNHyDuwarWygCPnUrwnan7Uet6hf+US6oXyQ==\n",
      "Data columns (total 35 columns):\n",
      " #   Column                  Non-Null Count  Dtype   \n",
      "---  ------                  --------------  -----   \n",
      " 0   genderLooking           4008 non-null   category\n",
      " 1   age                     4008 non-null   int64   \n",
      " 2   name                    4008 non-null   category\n",
      " 3   counts_details          4008 non-null   float64 \n",
      " 4   counts_pictures         4008 non-null   int64   \n",
      " 5   counts_profileVisits    4008 non-null   int64   \n",
      " 6   counts_kisses           4008 non-null   int64   \n",
      " 7   counts_fans             4008 non-null   float64 \n",
      " 8   counts_g                4008 non-null   category\n",
      " 9   flirtInterests_chat     4008 non-null   int64   \n",
      " 10  flirtInterests_friends  4008 non-null   int64   \n",
      " 11  flirtInterests_date     4008 non-null   int64   \n",
      " 12  country                 4008 non-null   category\n",
      " 13  city                    4008 non-null   category\n",
      " 14  locationCity            4008 non-null   category\n",
      " 15  distance                4008 non-null   float64 \n",
      " 16  isFlirtstar             4008 non-null   int64   \n",
      " 17  isHighlighted           4008 non-null   int64   \n",
      " 18  isMobile                4008 non-null   int64   \n",
      " 19  isNew                   4008 non-null   int64   \n",
      " 20  isOnline                4008 non-null   int64   \n",
      " 21  isVIP                   4008 non-null   int64   \n",
      " 22  lang_count              4008 non-null   int64   \n",
      " 23  lang_fr                 4008 non-null   int64   \n",
      " 24  lang_en                 4008 non-null   int64   \n",
      " 25  lang_de                 4008 non-null   int64   \n",
      " 26  lang_it                 4008 non-null   int64   \n",
      " 27  lang_es                 4008 non-null   int64   \n",
      " 28  lang_pt                 4008 non-null   int64   \n",
      " 29  isVerified              4008 non-null   int64   \n",
      " 30  shareProfileEnabled     4008 non-null   float64 \n",
      " 31  hasBirthday             4008 non-null   int64   \n",
      " 32  crypt                   4008 non-null   float64 \n",
      " 33  lastOnlineday           4008 non-null   int64   \n",
      " 34  lastOnlinemonth         4008 non-null   int64   \n",
      "dtypes: category(6), float64(5), int64(24)\n",
      "memory usage: 1021.6 KB\n"
     ]
    }
   ],
   "source": [
    "df.info()"
   ]
  },
  {
   "cell_type": "code",
   "execution_count": 4,
   "id": "c1911f54",
   "metadata": {},
   "outputs": [],
   "source": [
    "def regressionMetrics(y, yhat):\n",
    "    res = {'MSE': metrics.mean_squared_error(y,yhat),\n",
    "           'RMSE': np.sqrt(metrics.mean_squared_error(y,yhat)),\n",
    "           'MAE': metrics.mean_absolute_error(y,yhat),\n",
    "           'RMSLE': np.sqrt(metrics.mean_squared_log_error(y,yhat))\n",
    "          }\n",
    "    return res"
   ]
  },
  {
   "cell_type": "code",
   "execution_count": 5,
   "id": "8b4887b1",
   "metadata": {
    "scrolled": true
   },
   "outputs": [
    {
     "data": {
      "text/html": [
       "<div>\n",
       "<style scoped>\n",
       "    .dataframe tbody tr th:only-of-type {\n",
       "        vertical-align: middle;\n",
       "    }\n",
       "\n",
       "    .dataframe tbody tr th {\n",
       "        vertical-align: top;\n",
       "    }\n",
       "\n",
       "    .dataframe thead th {\n",
       "        text-align: right;\n",
       "    }\n",
       "</style>\n",
       "<table border=\"1\" class=\"dataframe\">\n",
       "  <thead>\n",
       "    <tr style=\"text-align: right;\">\n",
       "      <th></th>\n",
       "      <th>genderLooking</th>\n",
       "      <th>age</th>\n",
       "      <th>name</th>\n",
       "      <th>counts_details</th>\n",
       "      <th>counts_pictures</th>\n",
       "      <th>counts_profileVisits</th>\n",
       "      <th>counts_kisses</th>\n",
       "      <th>counts_fans</th>\n",
       "      <th>counts_g</th>\n",
       "      <th>flirtInterests_chat</th>\n",
       "      <th>...</th>\n",
       "      <th>lang_de</th>\n",
       "      <th>lang_it</th>\n",
       "      <th>lang_es</th>\n",
       "      <th>lang_pt</th>\n",
       "      <th>isVerified</th>\n",
       "      <th>shareProfileEnabled</th>\n",
       "      <th>hasBirthday</th>\n",
       "      <th>crypt</th>\n",
       "      <th>lastOnlineday</th>\n",
       "      <th>lastOnlinemonth</th>\n",
       "    </tr>\n",
       "    <tr>\n",
       "      <th>userId</th>\n",
       "      <th></th>\n",
       "      <th></th>\n",
       "      <th></th>\n",
       "      <th></th>\n",
       "      <th></th>\n",
       "      <th></th>\n",
       "      <th></th>\n",
       "      <th></th>\n",
       "      <th></th>\n",
       "      <th></th>\n",
       "      <th></th>\n",
       "      <th></th>\n",
       "      <th></th>\n",
       "      <th></th>\n",
       "      <th></th>\n",
       "      <th></th>\n",
       "      <th></th>\n",
       "      <th></th>\n",
       "      <th></th>\n",
       "      <th></th>\n",
       "      <th></th>\n",
       "    </tr>\n",
       "  </thead>\n",
       "  <tbody>\n",
       "    <tr>\n",
       "      <th>4e3842f79b70e7ea57000064</th>\n",
       "      <td>1</td>\n",
       "      <td>25</td>\n",
       "      <td>2078</td>\n",
       "      <td>1.00</td>\n",
       "      <td>4</td>\n",
       "      <td>8279</td>\n",
       "      <td>239</td>\n",
       "      <td>0.0</td>\n",
       "      <td>3.0</td>\n",
       "      <td>1</td>\n",
       "      <td>...</td>\n",
       "      <td>1</td>\n",
       "      <td>0</td>\n",
       "      <td>0</td>\n",
       "      <td>0</td>\n",
       "      <td>0</td>\n",
       "      <td>1.0</td>\n",
       "      <td>0</td>\n",
       "      <td>0.0</td>\n",
       "      <td>25</td>\n",
       "      <td>4</td>\n",
       "    </tr>\n",
       "    <tr>\n",
       "      <th>4e3d34bf5d2bce7b160006a3</th>\n",
       "      <td>1</td>\n",
       "      <td>22</td>\n",
       "      <td>2202</td>\n",
       "      <td>0.85</td>\n",
       "      <td>5</td>\n",
       "      <td>663</td>\n",
       "      <td>13</td>\n",
       "      <td>0.0</td>\n",
       "      <td>0.0</td>\n",
       "      <td>1</td>\n",
       "      <td>...</td>\n",
       "      <td>1</td>\n",
       "      <td>1</td>\n",
       "      <td>0</td>\n",
       "      <td>0</td>\n",
       "      <td>0</td>\n",
       "      <td>1.0</td>\n",
       "      <td>0</td>\n",
       "      <td>0.0</td>\n",
       "      <td>26</td>\n",
       "      <td>4</td>\n",
       "    </tr>\n",
       "    <tr>\n",
       "      <th>4ec96c090dc82cb25d00000a</th>\n",
       "      <td>1</td>\n",
       "      <td>21</td>\n",
       "      <td>931</td>\n",
       "      <td>0.00</td>\n",
       "      <td>4</td>\n",
       "      <td>1369</td>\n",
       "      <td>88</td>\n",
       "      <td>0.0</td>\n",
       "      <td>2.0</td>\n",
       "      <td>0</td>\n",
       "      <td>...</td>\n",
       "      <td>0</td>\n",
       "      <td>0</td>\n",
       "      <td>0</td>\n",
       "      <td>0</td>\n",
       "      <td>0</td>\n",
       "      <td>1.0</td>\n",
       "      <td>0</td>\n",
       "      <td>0.0</td>\n",
       "      <td>4</td>\n",
       "      <td>6</td>\n",
       "    </tr>\n",
       "    <tr>\n",
       "      <th>4eef8b81ebf2c8f64000000c</th>\n",
       "      <td>3</td>\n",
       "      <td>20</td>\n",
       "      <td>1470</td>\n",
       "      <td>0.12</td>\n",
       "      <td>3</td>\n",
       "      <td>22187</td>\n",
       "      <td>1015</td>\n",
       "      <td>2.0</td>\n",
       "      <td>3.0</td>\n",
       "      <td>1</td>\n",
       "      <td>...</td>\n",
       "      <td>0</td>\n",
       "      <td>0</td>\n",
       "      <td>0</td>\n",
       "      <td>0</td>\n",
       "      <td>0</td>\n",
       "      <td>1.0</td>\n",
       "      <td>0</td>\n",
       "      <td>0.0</td>\n",
       "      <td>4</td>\n",
       "      <td>7</td>\n",
       "    </tr>\n",
       "    <tr>\n",
       "      <th>4ef3cc5aa9d0b3d07d000017</th>\n",
       "      <td>1</td>\n",
       "      <td>21</td>\n",
       "      <td>2608</td>\n",
       "      <td>0.15</td>\n",
       "      <td>12</td>\n",
       "      <td>35262</td>\n",
       "      <td>1413</td>\n",
       "      <td>9.0</td>\n",
       "      <td>12.0</td>\n",
       "      <td>1</td>\n",
       "      <td>...</td>\n",
       "      <td>1</td>\n",
       "      <td>0</td>\n",
       "      <td>0</td>\n",
       "      <td>0</td>\n",
       "      <td>0</td>\n",
       "      <td>1.0</td>\n",
       "      <td>0</td>\n",
       "      <td>0.0</td>\n",
       "      <td>4</td>\n",
       "      <td>6</td>\n",
       "    </tr>\n",
       "  </tbody>\n",
       "</table>\n",
       "<p>5 rows × 35 columns</p>\n",
       "</div>"
      ],
      "text/plain": [
       "                         genderLooking  age  name  counts_details  \\\n",
       "userId                                                              \n",
       "4e3842f79b70e7ea57000064             1   25  2078            1.00   \n",
       "4e3d34bf5d2bce7b160006a3             1   22  2202            0.85   \n",
       "4ec96c090dc82cb25d00000a             1   21   931            0.00   \n",
       "4eef8b81ebf2c8f64000000c             3   20  1470            0.12   \n",
       "4ef3cc5aa9d0b3d07d000017             1   21  2608            0.15   \n",
       "\n",
       "                          counts_pictures  counts_profileVisits  \\\n",
       "userId                                                            \n",
       "4e3842f79b70e7ea57000064                4                  8279   \n",
       "4e3d34bf5d2bce7b160006a3                5                   663   \n",
       "4ec96c090dc82cb25d00000a                4                  1369   \n",
       "4eef8b81ebf2c8f64000000c                3                 22187   \n",
       "4ef3cc5aa9d0b3d07d000017               12                 35262   \n",
       "\n",
       "                          counts_kisses  counts_fans counts_g  \\\n",
       "userId                                                          \n",
       "4e3842f79b70e7ea57000064            239          0.0      3.0   \n",
       "4e3d34bf5d2bce7b160006a3             13          0.0      0.0   \n",
       "4ec96c090dc82cb25d00000a             88          0.0      2.0   \n",
       "4eef8b81ebf2c8f64000000c           1015          2.0      3.0   \n",
       "4ef3cc5aa9d0b3d07d000017           1413          9.0     12.0   \n",
       "\n",
       "                          flirtInterests_chat  ...  lang_de  lang_it lang_es  \\\n",
       "userId                                         ...                             \n",
       "4e3842f79b70e7ea57000064                    1  ...        1        0       0   \n",
       "4e3d34bf5d2bce7b160006a3                    1  ...        1        1       0   \n",
       "4ec96c090dc82cb25d00000a                    0  ...        0        0       0   \n",
       "4eef8b81ebf2c8f64000000c                    1  ...        0        0       0   \n",
       "4ef3cc5aa9d0b3d07d000017                    1  ...        1        0       0   \n",
       "\n",
       "                         lang_pt isVerified  shareProfileEnabled  hasBirthday  \\\n",
       "userId                                                                          \n",
       "4e3842f79b70e7ea57000064       0          0                  1.0            0   \n",
       "4e3d34bf5d2bce7b160006a3       0          0                  1.0            0   \n",
       "4ec96c090dc82cb25d00000a       0          0                  1.0            0   \n",
       "4eef8b81ebf2c8f64000000c       0          0                  1.0            0   \n",
       "4ef3cc5aa9d0b3d07d000017       0          0                  1.0            0   \n",
       "\n",
       "                          crypt  lastOnlineday  lastOnlinemonth  \n",
       "userId                                                           \n",
       "4e3842f79b70e7ea57000064    0.0             25                4  \n",
       "4e3d34bf5d2bce7b160006a3    0.0             26                4  \n",
       "4ec96c090dc82cb25d00000a    0.0              4                6  \n",
       "4eef8b81ebf2c8f64000000c    0.0              4                7  \n",
       "4ef3cc5aa9d0b3d07d000017    0.0              4                6  \n",
       "\n",
       "[5 rows x 35 columns]"
      ]
     },
     "execution_count": 5,
     "metadata": {},
     "output_type": "execute_result"
    }
   ],
   "source": [
    "df.head()"
   ]
  },
  {
   "cell_type": "code",
   "execution_count": 6,
   "id": "1f1a6c11",
   "metadata": {},
   "outputs": [],
   "source": [
    "from sklearn.linear_model import LinearRegression\n",
    "from sklearn.tree import DecisionTreeRegressor\n",
    "from sklearn.ensemble import RandomForestRegressor, AdaBoostRegressor, GradientBoostingRegressor\n",
    "from sklearn.svm import SVR\n",
    "#!pip install xgboost\n",
    "import xgboost as xgb"
   ]
  },
  {
   "cell_type": "code",
   "execution_count": 7,
   "id": "1f7157cf",
   "metadata": {},
   "outputs": [],
   "source": [
    "X = df.drop(columns='counts_profileVisits')\n",
    "y=df['counts_profileVisits']\n"
   ]
  },
  {
   "cell_type": "code",
   "execution_count": 8,
   "id": "66f46ce7",
   "metadata": {},
   "outputs": [],
   "source": [
    "mod1 = LinearRegression()\n",
    "mod1.fit(X,y)\n",
    "\n",
    "pred1 = mod1.predict(X)\n",
    "\n",
    "pred1_pos = np.maximum(pred1, 0)"
   ]
  },
  {
   "cell_type": "code",
   "execution_count": 9,
   "id": "7d0c3e73",
   "metadata": {
    "scrolled": true
   },
   "outputs": [
    {
     "data": {
      "text/plain": [
       "{'MSE': 8679632.398608357,\n",
       " 'RMSE': 2946.1215858494975,\n",
       " 'MAE': 1481.8930751973467,\n",
       " 'RMSLE': 1.7648518458213658}"
      ]
     },
     "execution_count": 9,
     "metadata": {},
     "output_type": "execute_result"
    }
   ],
   "source": [
    "regressionMetrics(y, pred1_pos)"
   ]
  },
  {
   "cell_type": "code",
   "execution_count": 10,
   "id": "6774dcb1",
   "metadata": {},
   "outputs": [
    {
     "data": {
      "text/html": [
       "<div>\n",
       "<style scoped>\n",
       "    .dataframe tbody tr th:only-of-type {\n",
       "        vertical-align: middle;\n",
       "    }\n",
       "\n",
       "    .dataframe tbody tr th {\n",
       "        vertical-align: top;\n",
       "    }\n",
       "\n",
       "    .dataframe thead th {\n",
       "        text-align: right;\n",
       "    }\n",
       "</style>\n",
       "<table border=\"1\" class=\"dataframe\">\n",
       "  <thead>\n",
       "    <tr style=\"text-align: right;\">\n",
       "      <th></th>\n",
       "      <th>model</th>\n",
       "      <th>MSE</th>\n",
       "      <th>RMSE</th>\n",
       "      <th>MAE</th>\n",
       "      <th>RMSLE</th>\n",
       "    </tr>\n",
       "  </thead>\n",
       "  <tbody>\n",
       "    <tr>\n",
       "      <th>0</th>\n",
       "      <td>Linear Regression</td>\n",
       "      <td>8.679632e+06</td>\n",
       "      <td>2946.121586</td>\n",
       "      <td>1481.893075</td>\n",
       "      <td>1.764852</td>\n",
       "    </tr>\n",
       "  </tbody>\n",
       "</table>\n",
       "</div>"
      ],
      "text/plain": [
       "               model           MSE         RMSE          MAE     RMSLE\n",
       "0  Linear Regression  8.679632e+06  2946.121586  1481.893075  1.764852"
      ]
     },
     "execution_count": 10,
     "metadata": {},
     "output_type": "execute_result"
    }
   ],
   "source": [
    "models_list = pd.DataFrame()\n",
    "model_dict = {'model': \"Linear Regression\"}\n",
    "new_row = pd.DataFrame([{**model_dict, **regressionMetrics(y, pred1_pos)}])\n",
    "models_list = pd.concat([models_list, new_row], ignore_index=True)\n",
    "models_list"
   ]
  },
  {
   "cell_type": "code",
   "execution_count": 11,
   "id": "b595f6ab",
   "metadata": {
    "scrolled": true
   },
   "outputs": [
    {
     "data": {
      "text/plain": [
       "<AxesSubplot:xlabel='counts_profileVisits'>"
      ]
     },
     "execution_count": 11,
     "metadata": {},
     "output_type": "execute_result"
    },
    {
     "data": {
      "image/png": "[encoded data removed]",
      "text/plain": [
       "<Figure size 640x480 with 1 Axes>"
      ]
     },
     "metadata": {},
     "output_type": "display_data"
    }
   ],
   "source": [
    "sns.scatterplot(x=y, y=pred1_pos)"
   ]
  },
  {
   "cell_type": "code",
   "execution_count": 12,
   "id": "3a426e98",
   "metadata": {},
   "outputs": [
    {
     "data": {
      "text/plain": [
       "DecisionTreeRegressor(random_state=1)"
      ]
     },
     "execution_count": 12,
     "metadata": {},
     "output_type": "execute_result"
    }
   ],
   "source": [
    "mod2 = DecisionTreeRegressor(random_state=1)\n",
    "mod2.fit(X,y)"
   ]
  },
  {
   "cell_type": "code",
   "execution_count": 13,
   "id": "d91a83bb",
   "metadata": {},
   "outputs": [
    {
     "data": {
      "text/html": [
       "<div>\n",
       "<style scoped>\n",
       "    .dataframe tbody tr th:only-of-type {\n",
       "        vertical-align: middle;\n",
       "    }\n",
       "\n",
       "    .dataframe tbody tr th {\n",
       "        vertical-align: top;\n",
       "    }\n",
       "\n",
       "    .dataframe thead th {\n",
       "        text-align: right;\n",
       "    }\n",
       "</style>\n",
       "<table border=\"1\" class=\"dataframe\">\n",
       "  <thead>\n",
       "    <tr style=\"text-align: right;\">\n",
       "      <th></th>\n",
       "      <th>model</th>\n",
       "      <th>MSE</th>\n",
       "      <th>RMSE</th>\n",
       "      <th>MAE</th>\n",
       "      <th>RMSLE</th>\n",
       "    </tr>\n",
       "  </thead>\n",
       "  <tbody>\n",
       "    <tr>\n",
       "      <th>0</th>\n",
       "      <td>Linear Regression</td>\n",
       "      <td>8.679632e+06</td>\n",
       "      <td>2946.121586</td>\n",
       "      <td>1481.893075</td>\n",
       "      <td>1.764852</td>\n",
       "    </tr>\n",
       "    <tr>\n",
       "      <th>1</th>\n",
       "      <td>Decision Tree</td>\n",
       "      <td>8.649368e-03</td>\n",
       "      <td>0.093002</td>\n",
       "      <td>0.002828</td>\n",
       "      <td>0.000113</td>\n",
       "    </tr>\n",
       "  </tbody>\n",
       "</table>\n",
       "</div>"
      ],
      "text/plain": [
       "               model           MSE         RMSE          MAE     RMSLE\n",
       "0  Linear Regression  8.679632e+06  2946.121586  1481.893075  1.764852\n",
       "1      Decision Tree  8.649368e-03     0.093002     0.002828  0.000113"
      ]
     },
     "execution_count": 13,
     "metadata": {},
     "output_type": "execute_result"
    }
   ],
   "source": [
    "pred2 = mod2.predict(X)\n",
    "model_dict = {'model': \"Decision Tree\"}\n",
    "new_row = pd.DataFrame([{**model_dict, **regressionMetrics(y, pred2)}])\n",
    "models_list = pd.concat([models_list, new_row], ignore_index=True)\n",
    "models_list"
   ]
  },
  {
   "cell_type": "code",
   "execution_count": 14,
   "id": "4ba911e3",
   "metadata": {},
   "outputs": [
    {
     "data": {
      "text/plain": [
       "RandomForestRegressor(random_state=1)"
      ]
     },
     "execution_count": 14,
     "metadata": {},
     "output_type": "execute_result"
    }
   ],
   "source": [
    "mod3 = RandomForestRegressor(random_state=1)\n",
    "mod3.fit(X,y)"
   ]
  },
  {
   "cell_type": "code",
   "execution_count": 15,
   "id": "cbd3650a",
   "metadata": {},
   "outputs": [
    {
     "data": {
      "text/html": [
       "<div>\n",
       "<style scoped>\n",
       "    .dataframe tbody tr th:only-of-type {\n",
       "        vertical-align: middle;\n",
       "    }\n",
       "\n",
       "    .dataframe tbody tr th {\n",
       "        vertical-align: top;\n",
       "    }\n",
       "\n",
       "    .dataframe thead th {\n",
       "        text-align: right;\n",
       "    }\n",
       "</style>\n",
       "<table border=\"1\" class=\"dataframe\">\n",
       "  <thead>\n",
       "    <tr style=\"text-align: right;\">\n",
       "      <th></th>\n",
       "      <th>model</th>\n",
       "      <th>MSE</th>\n",
       "      <th>RMSE</th>\n",
       "      <th>MAE</th>\n",
       "      <th>RMSLE</th>\n",
       "    </tr>\n",
       "  </thead>\n",
       "  <tbody>\n",
       "    <tr>\n",
       "      <th>0</th>\n",
       "      <td>Linear Regression</td>\n",
       "      <td>8.679632e+06</td>\n",
       "      <td>2946.121586</td>\n",
       "      <td>1481.893075</td>\n",
       "      <td>1.764852</td>\n",
       "    </tr>\n",
       "    <tr>\n",
       "      <th>1</th>\n",
       "      <td>Decision Tree</td>\n",
       "      <td>8.649368e-03</td>\n",
       "      <td>0.093002</td>\n",
       "      <td>0.002828</td>\n",
       "      <td>0.000113</td>\n",
       "    </tr>\n",
       "    <tr>\n",
       "      <th>2</th>\n",
       "      <td>RandomForest</td>\n",
       "      <td>1.462626e+06</td>\n",
       "      <td>1209.390783</td>\n",
       "      <td>450.500149</td>\n",
       "      <td>0.459933</td>\n",
       "    </tr>\n",
       "  </tbody>\n",
       "</table>\n",
       "</div>"
      ],
      "text/plain": [
       "               model           MSE         RMSE          MAE     RMSLE\n",
       "0  Linear Regression  8.679632e+06  2946.121586  1481.893075  1.764852\n",
       "1      Decision Tree  8.649368e-03     0.093002     0.002828  0.000113\n",
       "2       RandomForest  1.462626e+06  1209.390783   450.500149  0.459933"
      ]
     },
     "execution_count": 15,
     "metadata": {},
     "output_type": "execute_result"
    }
   ],
   "source": [
    "pred3 = mod3.predict(X)\n",
    "model_dict = {'model': \"RandomForest\"}\n",
    "new_row = pd.DataFrame([{**model_dict, **regressionMetrics(y, pred3)}])\n",
    "models_list = pd.concat([models_list, new_row], ignore_index=True)\n",
    "models_list"
   ]
  },
  {
   "cell_type": "code",
   "execution_count": 16,
   "id": "7ba1c6e8",
   "metadata": {},
   "outputs": [
    {
     "data": {
      "text/plain": [
       "AdaBoostRegressor(random_state=1)"
      ]
     },
     "execution_count": 16,
     "metadata": {},
     "output_type": "execute_result"
    }
   ],
   "source": [
    "mod4 = AdaBoostRegressor(random_state=1)\n",
    "mod4.fit(X,y)"
   ]
  },
  {
   "cell_type": "code",
   "execution_count": 17,
   "id": "685b7f99",
   "metadata": {
    "scrolled": true
   },
   "outputs": [
    {
     "data": {
      "text/html": [
       "<div>\n",
       "<style scoped>\n",
       "    .dataframe tbody tr th:only-of-type {\n",
       "        vertical-align: middle;\n",
       "    }\n",
       "\n",
       "    .dataframe tbody tr th {\n",
       "        vertical-align: top;\n",
       "    }\n",
       "\n",
       "    .dataframe thead th {\n",
       "        text-align: right;\n",
       "    }\n",
       "</style>\n",
       "<table border=\"1\" class=\"dataframe\">\n",
       "  <thead>\n",
       "    <tr style=\"text-align: right;\">\n",
       "      <th></th>\n",
       "      <th>model</th>\n",
       "      <th>MSE</th>\n",
       "      <th>RMSE</th>\n",
       "      <th>MAE</th>\n",
       "      <th>RMSLE</th>\n",
       "    </tr>\n",
       "  </thead>\n",
       "  <tbody>\n",
       "    <tr>\n",
       "      <th>0</th>\n",
       "      <td>Linear Regression</td>\n",
       "      <td>8.679632e+06</td>\n",
       "      <td>2946.121586</td>\n",
       "      <td>1481.893075</td>\n",
       "      <td>1.764852</td>\n",
       "    </tr>\n",
       "    <tr>\n",
       "      <th>1</th>\n",
       "      <td>Decision Tree</td>\n",
       "      <td>8.649368e-03</td>\n",
       "      <td>0.093002</td>\n",
       "      <td>0.002828</td>\n",
       "      <td>0.000113</td>\n",
       "    </tr>\n",
       "    <tr>\n",
       "      <th>2</th>\n",
       "      <td>RandomForest</td>\n",
       "      <td>1.462626e+06</td>\n",
       "      <td>1209.390783</td>\n",
       "      <td>450.500149</td>\n",
       "      <td>0.459933</td>\n",
       "    </tr>\n",
       "    <tr>\n",
       "      <th>3</th>\n",
       "      <td>ADABoost</td>\n",
       "      <td>1.462626e+06</td>\n",
       "      <td>1209.390783</td>\n",
       "      <td>450.500149</td>\n",
       "      <td>0.459933</td>\n",
       "    </tr>\n",
       "  </tbody>\n",
       "</table>\n",
       "</div>"
      ],
      "text/plain": [
       "               model           MSE         RMSE          MAE     RMSLE\n",
       "0  Linear Regression  8.679632e+06  2946.121586  1481.893075  1.764852\n",
       "1      Decision Tree  8.649368e-03     0.093002     0.002828  0.000113\n",
       "2       RandomForest  1.462626e+06  1209.390783   450.500149  0.459933\n",
       "3           ADABoost  1.462626e+06  1209.390783   450.500149  0.459933"
      ]
     },
     "execution_count": 17,
     "metadata": {},
     "output_type": "execute_result"
    }
   ],
   "source": [
    "pred4 = mod4.predict(X)\n",
    "model_dict = {'model': \"ADABoost\"}\n",
    "new_row = pd.DataFrame([{**model_dict, **regressionMetrics(y, pred3)}])\n",
    "models_list = pd.concat([models_list, new_row], ignore_index=True)\n",
    "models_list"
   ]
  },
  {
   "cell_type": "code",
   "execution_count": 18,
   "id": "d95adeea",
   "metadata": {},
   "outputs": [
    {
     "data": {
      "text/plain": [
       "GradientBoostingRegressor(random_state=1)"
      ]
     },
     "execution_count": 18,
     "metadata": {},
     "output_type": "execute_result"
    }
   ],
   "source": [
    "mod5 = GradientBoostingRegressor(random_state=1)\n",
    "mod5.fit(X,y)"
   ]
  },
  {
   "cell_type": "code",
   "execution_count": 19,
   "id": "4722a7d7",
   "metadata": {
    "scrolled": true
   },
   "outputs": [
    {
     "data": {
      "text/html": [
       "<div>\n",
       "<style scoped>\n",
       "    .dataframe tbody tr th:only-of-type {\n",
       "        vertical-align: middle;\n",
       "    }\n",
       "\n",
       "    .dataframe tbody tr th {\n",
       "        vertical-align: top;\n",
       "    }\n",
       "\n",
       "    .dataframe thead th {\n",
       "        text-align: right;\n",
       "    }\n",
       "</style>\n",
       "<table border=\"1\" class=\"dataframe\">\n",
       "  <thead>\n",
       "    <tr style=\"text-align: right;\">\n",
       "      <th></th>\n",
       "      <th>model</th>\n",
       "      <th>MSE</th>\n",
       "      <th>RMSE</th>\n",
       "      <th>MAE</th>\n",
       "      <th>RMSLE</th>\n",
       "    </tr>\n",
       "  </thead>\n",
       "  <tbody>\n",
       "    <tr>\n",
       "      <th>0</th>\n",
       "      <td>Linear Regression</td>\n",
       "      <td>8.679632e+06</td>\n",
       "      <td>2946.121586</td>\n",
       "      <td>1481.893075</td>\n",
       "      <td>1.764852</td>\n",
       "    </tr>\n",
       "    <tr>\n",
       "      <th>1</th>\n",
       "      <td>Decision Tree</td>\n",
       "      <td>8.649368e-03</td>\n",
       "      <td>0.093002</td>\n",
       "      <td>0.002828</td>\n",
       "      <td>0.000113</td>\n",
       "    </tr>\n",
       "    <tr>\n",
       "      <th>2</th>\n",
       "      <td>RandomForest</td>\n",
       "      <td>1.462626e+06</td>\n",
       "      <td>1209.390783</td>\n",
       "      <td>450.500149</td>\n",
       "      <td>0.459933</td>\n",
       "    </tr>\n",
       "    <tr>\n",
       "      <th>3</th>\n",
       "      <td>ADABoost</td>\n",
       "      <td>1.462626e+06</td>\n",
       "      <td>1209.390783</td>\n",
       "      <td>450.500149</td>\n",
       "      <td>0.459933</td>\n",
       "    </tr>\n",
       "    <tr>\n",
       "      <th>4</th>\n",
       "      <td>GBM</td>\n",
       "      <td>3.343337e+06</td>\n",
       "      <td>1828.479550</td>\n",
       "      <td>975.609648</td>\n",
       "      <td>1.101272</td>\n",
       "    </tr>\n",
       "  </tbody>\n",
       "</table>\n",
       "</div>"
      ],
      "text/plain": [
       "               model           MSE         RMSE          MAE     RMSLE\n",
       "0  Linear Regression  8.679632e+06  2946.121586  1481.893075  1.764852\n",
       "1      Decision Tree  8.649368e-03     0.093002     0.002828  0.000113\n",
       "2       RandomForest  1.462626e+06  1209.390783   450.500149  0.459933\n",
       "3           ADABoost  1.462626e+06  1209.390783   450.500149  0.459933\n",
       "4                GBM  3.343337e+06  1828.479550   975.609648  1.101272"
      ]
     },
     "execution_count": 19,
     "metadata": {},
     "output_type": "execute_result"
    }
   ],
   "source": [
    "pred5 = mod5.predict(X)\n",
    "pred5_pos= np.maximum(pred5, 0)\n",
    "model_dict = {'model': \"GBM\"}\n",
    "new_row = pd.DataFrame([{**model_dict, **regressionMetrics(y, pred5_pos)}])\n",
    "models_list = pd.concat([models_list, new_row], ignore_index=True)\n",
    "models_list"
   ]
  },
  {
   "cell_type": "code",
   "execution_count": 20,
   "id": "6d813faa",
   "metadata": {},
   "outputs": [
    {
     "data": {
      "text/plain": [
       "SVR()"
      ]
     },
     "execution_count": 20,
     "metadata": {},
     "output_type": "execute_result"
    }
   ],
   "source": [
    "mod6 = SVR()\n",
    "mod6.fit(X,y)"
   ]
  },
  {
   "cell_type": "code",
   "execution_count": 21,
   "id": "847e50d8",
   "metadata": {
    "scrolled": true
   },
   "outputs": [
    {
     "data": {
      "text/html": [
       "<div>\n",
       "<style scoped>\n",
       "    .dataframe tbody tr th:only-of-type {\n",
       "        vertical-align: middle;\n",
       "    }\n",
       "\n",
       "    .dataframe tbody tr th {\n",
       "        vertical-align: top;\n",
       "    }\n",
       "\n",
       "    .dataframe thead th {\n",
       "        text-align: right;\n",
       "    }\n",
       "</style>\n",
       "<table border=\"1\" class=\"dataframe\">\n",
       "  <thead>\n",
       "    <tr style=\"text-align: right;\">\n",
       "      <th></th>\n",
       "      <th>model</th>\n",
       "      <th>MSE</th>\n",
       "      <th>RMSE</th>\n",
       "      <th>MAE</th>\n",
       "      <th>RMSLE</th>\n",
       "    </tr>\n",
       "  </thead>\n",
       "  <tbody>\n",
       "    <tr>\n",
       "      <th>0</th>\n",
       "      <td>Linear Regression</td>\n",
       "      <td>8.679632e+06</td>\n",
       "      <td>2946.121586</td>\n",
       "      <td>1481.893075</td>\n",
       "      <td>1.764852</td>\n",
       "    </tr>\n",
       "    <tr>\n",
       "      <th>1</th>\n",
       "      <td>Decision Tree</td>\n",
       "      <td>8.649368e-03</td>\n",
       "      <td>0.093002</td>\n",
       "      <td>0.002828</td>\n",
       "      <td>0.000113</td>\n",
       "    </tr>\n",
       "    <tr>\n",
       "      <th>2</th>\n",
       "      <td>RandomForest</td>\n",
       "      <td>1.462626e+06</td>\n",
       "      <td>1209.390783</td>\n",
       "      <td>450.500149</td>\n",
       "      <td>0.459933</td>\n",
       "    </tr>\n",
       "    <tr>\n",
       "      <th>3</th>\n",
       "      <td>ADABoost</td>\n",
       "      <td>1.462626e+06</td>\n",
       "      <td>1209.390783</td>\n",
       "      <td>450.500149</td>\n",
       "      <td>0.459933</td>\n",
       "    </tr>\n",
       "    <tr>\n",
       "      <th>4</th>\n",
       "      <td>GBM</td>\n",
       "      <td>3.343337e+06</td>\n",
       "      <td>1828.479550</td>\n",
       "      <td>975.609648</td>\n",
       "      <td>1.101272</td>\n",
       "    </tr>\n",
       "    <tr>\n",
       "      <th>5</th>\n",
       "      <td>SVM</td>\n",
       "      <td>5.245876e+07</td>\n",
       "      <td>7242.841765</td>\n",
       "      <td>3229.519744</td>\n",
       "      <td>1.895035</td>\n",
       "    </tr>\n",
       "  </tbody>\n",
       "</table>\n",
       "</div>"
      ],
      "text/plain": [
       "               model           MSE         RMSE          MAE     RMSLE\n",
       "0  Linear Regression  8.679632e+06  2946.121586  1481.893075  1.764852\n",
       "1      Decision Tree  8.649368e-03     0.093002     0.002828  0.000113\n",
       "2       RandomForest  1.462626e+06  1209.390783   450.500149  0.459933\n",
       "3           ADABoost  1.462626e+06  1209.390783   450.500149  0.459933\n",
       "4                GBM  3.343337e+06  1828.479550   975.609648  1.101272\n",
       "5                SVM  5.245876e+07  7242.841765  3229.519744  1.895035"
      ]
     },
     "execution_count": 21,
     "metadata": {},
     "output_type": "execute_result"
    }
   ],
   "source": [
    "pred6 = mod6.predict(X)\n",
    "model_dict = {'model': \"SVM\"}\n",
    "new_row = pd.DataFrame([{**model_dict, **regressionMetrics(y, pred6)}])\n",
    "models_list = pd.concat([models_list, new_row], ignore_index=True)\n",
    "models_list"
   ]
  },
  {
   "cell_type": "code",
   "execution_count": 22,
   "id": "52ebb3e8",
   "metadata": {},
   "outputs": [
    {
     "data": {
      "text/plain": [
       "XGBRegressor(base_score=None, booster=None, callbacks=None,\n",
       "             colsample_bylevel=None, colsample_bynode=None,\n",
       "             colsample_bytree=None, device=None, early_stopping_rounds=None,\n",
       "             enable_categorical=True, eval_metric=None, feature_types=None,\n",
       "             gamma=None, grow_policy=None, importance_type=None,\n",
       "             interaction_constraints=None, learning_rate=None, max_bin=None,\n",
       "             max_cat_threshold=None, max_cat_to_onehot=None,\n",
       "             max_delta_step=None, max_depth=None, max_leaves=None,\n",
       "             min_child_weight=None, missing=nan, monotone_constraints=None,\n",
       "             multi_strategy=None, n_estimators=None, n_jobs=None,\n",
       "             num_parallel_tree=None, random_state=None, ...)"
      ]
     },
     "execution_count": 22,
     "metadata": {},
     "output_type": "execute_result"
    }
   ],
   "source": [
    "mod7= xgb.XGBRegressor(enable_categorical=True)\n",
    "mod7.fit(X,y)"
   ]
  },
  {
   "cell_type": "code",
   "execution_count": 23,
   "id": "c37b12d5",
   "metadata": {
    "scrolled": true
   },
   "outputs": [
    {
     "data": {
      "text/html": [
       "<div>\n",
       "<style scoped>\n",
       "    .dataframe tbody tr th:only-of-type {\n",
       "        vertical-align: middle;\n",
       "    }\n",
       "\n",
       "    .dataframe tbody tr th {\n",
       "        vertical-align: top;\n",
       "    }\n",
       "\n",
       "    .dataframe thead th {\n",
       "        text-align: right;\n",
       "    }\n",
       "</style>\n",
       "<table border=\"1\" class=\"dataframe\">\n",
       "  <thead>\n",
       "    <tr style=\"text-align: right;\">\n",
       "      <th></th>\n",
       "      <th>model</th>\n",
       "      <th>MSE</th>\n",
       "      <th>RMSE</th>\n",
       "      <th>MAE</th>\n",
       "      <th>RMSLE</th>\n",
       "    </tr>\n",
       "  </thead>\n",
       "  <tbody>\n",
       "    <tr>\n",
       "      <th>0</th>\n",
       "      <td>Linear Regression</td>\n",
       "      <td>8.679632e+06</td>\n",
       "      <td>2946.121586</td>\n",
       "      <td>1481.893075</td>\n",
       "      <td>1.764852</td>\n",
       "    </tr>\n",
       "    <tr>\n",
       "      <th>1</th>\n",
       "      <td>Decision Tree</td>\n",
       "      <td>8.649368e-03</td>\n",
       "      <td>0.093002</td>\n",
       "      <td>0.002828</td>\n",
       "      <td>0.000113</td>\n",
       "    </tr>\n",
       "    <tr>\n",
       "      <th>2</th>\n",
       "      <td>RandomForest</td>\n",
       "      <td>1.462626e+06</td>\n",
       "      <td>1209.390783</td>\n",
       "      <td>450.500149</td>\n",
       "      <td>0.459933</td>\n",
       "    </tr>\n",
       "    <tr>\n",
       "      <th>3</th>\n",
       "      <td>ADABoost</td>\n",
       "      <td>1.462626e+06</td>\n",
       "      <td>1209.390783</td>\n",
       "      <td>450.500149</td>\n",
       "      <td>0.459933</td>\n",
       "    </tr>\n",
       "    <tr>\n",
       "      <th>4</th>\n",
       "      <td>GBM</td>\n",
       "      <td>3.343337e+06</td>\n",
       "      <td>1828.479550</td>\n",
       "      <td>975.609648</td>\n",
       "      <td>1.101272</td>\n",
       "    </tr>\n",
       "    <tr>\n",
       "      <th>5</th>\n",
       "      <td>SVM</td>\n",
       "      <td>5.245876e+07</td>\n",
       "      <td>7242.841765</td>\n",
       "      <td>3229.519744</td>\n",
       "      <td>1.895035</td>\n",
       "    </tr>\n",
       "    <tr>\n",
       "      <th>6</th>\n",
       "      <td>XGB</td>\n",
       "      <td>1.665578e+02</td>\n",
       "      <td>12.905729</td>\n",
       "      <td>4.580172</td>\n",
       "      <td>0.160272</td>\n",
       "    </tr>\n",
       "  </tbody>\n",
       "</table>\n",
       "</div>"
      ],
      "text/plain": [
       "               model           MSE         RMSE          MAE     RMSLE\n",
       "0  Linear Regression  8.679632e+06  2946.121586  1481.893075  1.764852\n",
       "1      Decision Tree  8.649368e-03     0.093002     0.002828  0.000113\n",
       "2       RandomForest  1.462626e+06  1209.390783   450.500149  0.459933\n",
       "3           ADABoost  1.462626e+06  1209.390783   450.500149  0.459933\n",
       "4                GBM  3.343337e+06  1828.479550   975.609648  1.101272\n",
       "5                SVM  5.245876e+07  7242.841765  3229.519744  1.895035\n",
       "6                XGB  1.665578e+02    12.905729     4.580172  0.160272"
      ]
     },
     "execution_count": 23,
     "metadata": {},
     "output_type": "execute_result"
    }
   ],
   "source": [
    "pred7 = mod7.predict(X)\n",
    "pred7_pos= np.maximum(pred7, 0)\n",
    "model_dict = {'model': \"XGB\"}\n",
    "new_row = pd.DataFrame([{**model_dict, **regressionMetrics(y, pred7_pos)}])\n",
    "models_list = pd.concat([models_list, new_row], ignore_index=True)\n",
    "models_list"
   ]
  },
  {
   "cell_type": "code",
   "execution_count": 24,
   "id": "7d0f8963",
   "metadata": {
    "scrolled": true
   },
   "outputs": [
    {
     "data": {
      "text/html": [
       "<div>\n",
       "<style scoped>\n",
       "    .dataframe tbody tr th:only-of-type {\n",
       "        vertical-align: middle;\n",
       "    }\n",
       "\n",
       "    .dataframe tbody tr th {\n",
       "        vertical-align: top;\n",
       "    }\n",
       "\n",
       "    .dataframe thead th {\n",
       "        text-align: right;\n",
       "    }\n",
       "</style>\n",
       "<table border=\"1\" class=\"dataframe\">\n",
       "  <thead>\n",
       "    <tr style=\"text-align: right;\">\n",
       "      <th></th>\n",
       "      <th>model</th>\n",
       "      <th>MSE</th>\n",
       "      <th>RMSE</th>\n",
       "      <th>MAE</th>\n",
       "      <th>RMSLE</th>\n",
       "    </tr>\n",
       "  </thead>\n",
       "  <tbody>\n",
       "    <tr>\n",
       "      <th>1</th>\n",
       "      <td>Decision Tree</td>\n",
       "      <td>8.649368e-03</td>\n",
       "      <td>0.093002</td>\n",
       "      <td>0.002828</td>\n",
       "      <td>0.000113</td>\n",
       "    </tr>\n",
       "    <tr>\n",
       "      <th>6</th>\n",
       "      <td>XGB</td>\n",
       "      <td>1.665578e+02</td>\n",
       "      <td>12.905729</td>\n",
       "      <td>4.580172</td>\n",
       "      <td>0.160272</td>\n",
       "    </tr>\n",
       "    <tr>\n",
       "      <th>2</th>\n",
       "      <td>RandomForest</td>\n",
       "      <td>1.462626e+06</td>\n",
       "      <td>1209.390783</td>\n",
       "      <td>450.500149</td>\n",
       "      <td>0.459933</td>\n",
       "    </tr>\n",
       "    <tr>\n",
       "      <th>3</th>\n",
       "      <td>ADABoost</td>\n",
       "      <td>1.462626e+06</td>\n",
       "      <td>1209.390783</td>\n",
       "      <td>450.500149</td>\n",
       "      <td>0.459933</td>\n",
       "    </tr>\n",
       "    <tr>\n",
       "      <th>4</th>\n",
       "      <td>GBM</td>\n",
       "      <td>3.343337e+06</td>\n",
       "      <td>1828.479550</td>\n",
       "      <td>975.609648</td>\n",
       "      <td>1.101272</td>\n",
       "    </tr>\n",
       "    <tr>\n",
       "      <th>0</th>\n",
       "      <td>Linear Regression</td>\n",
       "      <td>8.679632e+06</td>\n",
       "      <td>2946.121586</td>\n",
       "      <td>1481.893075</td>\n",
       "      <td>1.764852</td>\n",
       "    </tr>\n",
       "    <tr>\n",
       "      <th>5</th>\n",
       "      <td>SVM</td>\n",
       "      <td>5.245876e+07</td>\n",
       "      <td>7242.841765</td>\n",
       "      <td>3229.519744</td>\n",
       "      <td>1.895035</td>\n",
       "    </tr>\n",
       "  </tbody>\n",
       "</table>\n",
       "</div>"
      ],
      "text/plain": [
       "               model           MSE         RMSE          MAE     RMSLE\n",
       "1      Decision Tree  8.649368e-03     0.093002     0.002828  0.000113\n",
       "6                XGB  1.665578e+02    12.905729     4.580172  0.160272\n",
       "2       RandomForest  1.462626e+06  1209.390783   450.500149  0.459933\n",
       "3           ADABoost  1.462626e+06  1209.390783   450.500149  0.459933\n",
       "4                GBM  3.343337e+06  1828.479550   975.609648  1.101272\n",
       "0  Linear Regression  8.679632e+06  2946.121586  1481.893075  1.764852\n",
       "5                SVM  5.245876e+07  7242.841765  3229.519744  1.895035"
      ]
     },
     "execution_count": 24,
     "metadata": {},
     "output_type": "execute_result"
    }
   ],
   "source": [
    "models_list.sort_values('RMSE')"
   ]
  },
  {
   "cell_type": "code",
   "execution_count": 25,
   "id": "c72049d9",
   "metadata": {},
   "outputs": [],
   "source": [
    "# Splitting the dataset\n",
    "from sklearn.model_selection import train_test_split\n",
    "X_train, X_test, y_train, y_test = train_test_split(X, y, test_size=0.2, random_state=42)"
   ]
  },
  {
   "cell_type": "code",
   "execution_count": 26,
   "id": "d1c06704",
   "metadata": {},
   "outputs": [
    {
     "name": "stdout",
     "output_type": "stream",
     "text": [
      "Fitting 3 folds for each of 648 candidates, totalling 1944 fits\n"
     ]
    },
    {
     "data": {
      "text/plain": [
       "GridSearchCV(cv=3, estimator=RandomForestRegressor(), n_jobs=-1,\n",
       "             param_grid={'max_depth': [None, 10, 20, 30, 40, 50],\n",
       "                         'max_features': ['auto', 'sqrt', 'log2'],\n",
       "                         'min_samples_leaf': [1, 2, 4],\n",
       "                         'min_samples_split': [2, 5, 10],\n",
       "                         'n_estimators': [10, 50, 100, 200]},\n",
       "             verbose=2)"
      ]
     },
     "execution_count": 26,
     "metadata": {},
     "output_type": "execute_result"
    }
   ],
   "source": [
    "from sklearn.model_selection import GridSearchCV\n",
    "\n",
    "# Define the parameter grid to search\n",
    "param_grid = {\n",
    "    'n_estimators': [10, 50, 100, 200],  # Number of trees in the forest\n",
    "    'max_features': ['auto', 'sqrt', 'log2'],  # Number of features to consider at every split\n",
    "    'max_depth': [None, 10, 20, 30, 40, 50],  # Maximum number of levels in tree\n",
    "    'min_samples_split': [2, 5, 10],  # Minimum number of samples required to split a node\n",
    "    'min_samples_leaf': [1, 2, 4],  # Minimum number of samples required at each leaf node\n",
    "}\n",
    "\n",
    "# Create a base model\n",
    "rf = RandomForestRegressor()\n",
    "\n",
    "# Instantiate the grid search model\n",
    "grid_search = GridSearchCV(estimator=rf, param_grid=param_grid, \n",
    "                           cv=3, n_jobs=-1, verbose=2)\n",
    "#Verbose - level of details that will be provided in each iteration\n",
    "# Fit the grid search to the data\n",
    "grid_search.fit(X, y)"
   ]
  },
  {
   "cell_type": "code",
   "execution_count": 27,
   "id": "7a37a1ea",
   "metadata": {},
   "outputs": [
    {
     "name": "stdout",
     "output_type": "stream",
     "text": [
      "Best Parameters: {'max_depth': 20, 'max_features': 'auto', 'min_samples_leaf': 4, 'min_samples_split': 5, 'n_estimators': 50}\n",
      "Best Score: 0.1514200694627081\n"
     ]
    }
   ],
   "source": [
    "# Print the best parameters and best score\n",
    "print(\"Best Parameters:\", grid_search.best_params_)\n",
    "print(\"Best Score:\", grid_search.best_score_)"
   ]
  },
  {
   "cell_type": "code",
   "execution_count": null,
   "id": "44d8dc2d",
   "metadata": {
    "scrolled": true
   },
   "outputs": [
    {
     "name": "stdout",
     "output_type": "stream",
     "text": [
      "Fitting 3 folds for each of 648 candidates, totalling 1944 fits\n"
     ]
    }
   ],
   "source": [
    "grid_search = GridSearchCV(estimator=mod7, param_grid=param_grid, cv=3, n_jobs=-1, verbose=2, scoring='neg_mean_squared_error')\n",
    "grid_search.fit(X_train, y_train)\n",
    "\n",
    "# Print the best parameters and the best score\n",
    "print(\"Best Parameters:\", grid_search.best_params_)\n",
    "print(\"Best Score (MSE):\", grid_search.best_score_)"
   ]
  },
  {
   "cell_type": "code",
   "execution_count": null,
   "id": "f4502e92",
   "metadata": {
    "scrolled": true
   },
   "outputs": [],
   "source": [
    "print(\"Best Score (RMSLE):\", grid_search.best_score_)"
   ]
  },
  {
   "cell_type": "code",
   "execution_count": null,
   "id": "053dcf19",
   "metadata": {},
   "outputs": [],
   "source": [
    "pred8 = grid_search.predict(X)\n",
    "model_dict = {'model': \"XGB_FT\"}\n",
    "new_row = pd.DataFrame([{**model_dict, **regressionMetrics(y, pred8)}])\n",
    "models_list = pd.concat([models_list, new_row], ignore_index=True)\n",
    "models_list"
   ]
  }
 ],
 "metadata": {
  "kernelspec": {
   "display_name": "Python 3 (ipykernel)",
   "language": "python",
   "name": "python3"
  },
  "language_info": {
   "codemirror_mode": {
    "name": "ipython",
    "version": 3
   },
   "file_extension": ".py",
   "mimetype": "text/x-python",
   "name": "python",
   "nbconvert_exporter": "python",
   "pygments_lexer": "ipython3",
   "version": "3.9.13"
  }
 },
 "nbformat": 4,
 "nbformat_minor": 5
}
